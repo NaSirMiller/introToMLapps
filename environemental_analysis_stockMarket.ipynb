{
 "cells": [
  {
   "cell_type": "code",
   "execution_count": null,
   "metadata": {},
   "outputs": [],
   "source": [
    "import createMarketIndexDf\n",
    "import pandas as pd\n",
    "import matplotlib as mplt\n",
    "import numpy as np\n",
    "import seaborn as sb\n",
    "import sklearn as skl\n",
    "import yfinance as yf"
   ]
  },
  {
   "cell_type": "code",
   "execution_count": null,
   "metadata": {},
   "outputs": [],
   "source": [
    "world_indices_page = pd.read_html(\"https://finance.yahoo.com/world-indices/\")\n",
    "world_indices = world_indices_page[0]\n",
    "\n",
    "market_indices = {}\n",
    "for index in world_indices.Symbol:\n",
    "  market_index_df = createMarketIndexDf.createMarketData(index)\n",
    "  market_indices[index] = market_index_df\n"
   ]
  }
 ],
 "metadata": {
  "language_info": {
   "name": "python"
  }
 },
 "nbformat": 4,
 "nbformat_minor": 2
}
