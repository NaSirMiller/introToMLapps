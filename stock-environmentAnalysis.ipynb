{
 "cells": [
  {
   "cell_type": "code",
   "execution_count": 2,
   "metadata": {},
   "outputs": [],
   "source": [
    "import pandas as pd\n",
    "import matplotlib as mplt\n",
    "import numpy as np\n",
    "import seaborn as sb\n",
    "import sklearn as skl\n",
    "import yfinance as yf"
   ]
  },
  {
   "cell_type": "code",
   "execution_count": 45,
   "metadata": {},
   "outputs": [
    {
     "name": "stdout",
     "output_type": "stream",
     "text": [
      "^CASE30: No data found for this date range, symbol may be delisted\n"
     ]
    }
   ],
   "source": [
    "#https://towardsdatascience.com/analyzing-world-stock-indices-performance-in-python-610df6a578f\n",
    "market_indices_recent = []\n",
    "market_indices_past = []\n",
    "world_indices_page = pd.read_html(\"https://finance.yahoo.com/world-indices/\")\n",
    "world_indices = world_indices_page[0]\n",
    "\n",
    "for index in world_indices.Symbol:\n",
    "  tickerData = yf.Ticker(index)\n",
    "  tickerDf = tickerData.history(period = \"1d\", start = \"2019-1-1\", end = \"2023-10-12\")\n",
    "  tickerDf[\"Index Ticker\"] = index\n",
    "  market_indices_recent.append(tickerDf)\n",
    "\n",
    "market_indices_recent = pd.concat(market_indices_recent, axis = 0) #Creating recent index dataframe\n",
    "market_indices_recent.reset_index(inplace = True) #Fixing formatting, adding Date as a column"
   ]
  },
  {
   "cell_type": "code",
   "execution_count": 47,
   "metadata": {},
   "outputs": [
    {
     "data": {
      "text/plain": [
       "0        2019-01-02\n",
       "1        2019-01-03\n",
       "2        2019-01-04\n",
       "3        2019-01-07\n",
       "4        2019-01-08\n",
       "            ...    \n",
       "40644    2023-10-04\n",
       "40645    2023-10-05\n",
       "40646    2023-10-08\n",
       "40647    2023-10-09\n",
       "40648    2023-10-10\n",
       "Name: Date, Length: 40649, dtype: object"
      ]
     },
     "execution_count": 47,
     "metadata": {},
     "output_type": "execute_result"
    }
   ],
   "source": [
    "#Removing extra time data in Date column, help from ChatGPT\n",
    "market_indices_recent[\"Date\"] = pd.to_datetime(market_indices_recent[\"Date\"], utc = True)\n",
    "market_indices_recent[\"Date\"] = market_indices_recent[\"Date\"].dt.strftime(\"%Y-%m-%d\")\n",
    "market_indices_recent[\"Date\"]\n"
   ]
  },
  {
   "cell_type": "code",
   "execution_count": null,
   "metadata": {},
   "outputs": [],
   "source": []
  }
 ],
 "metadata": {
  "kernelspec": {
   "display_name": "Python 3",
   "language": "python",
   "name": "python3"
  },
  "language_info": {
   "codemirror_mode": {
    "name": "ipython",
    "version": 3
   },
   "file_extension": ".py",
   "mimetype": "text/x-python",
   "name": "python",
   "nbconvert_exporter": "python",
   "pygments_lexer": "ipython3",
   "version": "3.11.3"
  },
  "orig_nbformat": 4
 },
 "nbformat": 4,
 "nbformat_minor": 2
}
