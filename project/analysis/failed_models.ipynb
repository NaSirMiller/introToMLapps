{
 "cells": [
  {
   "cell_type": "code",
   "execution_count": null,
   "metadata": {},
   "outputs": [],
   "source": [
    "\n",
    "# import pandas as pd\n",
    "# '''\n",
    "# Model Selection:\n",
    "#   Models to be tested and/or selected--\n",
    "#     * Decision Tree Classifier\n",
    "#     * Gradient Boosting Classifier\n",
    "#     * LightGBM\n",
    "#     * Logistic Regression\n",
    "#     * RandomForest Classifier\n",
    "#     * MLP Classifier\n",
    "#     * SVM\n",
    "#     * KNN Classifier\n",
    "# '''\n",
    "# #Model imports\n",
    "# from lightgbm import LGBMClassifier\n",
    "# from sklearn.ensemble import GradientBoostingClassifier, RandomForestClassifier\n",
    "# from sklearn.linear_model import LogisticRegression\n",
    "# from sklearn.preprocessing import StandardScaler\n",
    "# from sklearn.metrics import accuracy_score, classification_report\n",
    "# from sklearn.model_selection import train_test_split\n",
    "# from sklearn.neighbors import KNeighborsClassifier\n",
    "# from sklearn.neural_network import MLPClassifier\n",
    "# from sklearn.svm import SVC\n",
    "# from sklearn.tree import DecisionTreeClassifier"
   ]
  },
  {
   "cell_type": "code",
   "execution_count": null,
   "metadata": {},
   "outputs": [],
   "source": [
    "'''\n",
    "Attempts at building models for PS2\n",
    "'''"
   ]
  },
  {
   "cell_type": "code",
   "execution_count": null,
   "metadata": {},
   "outputs": [],
   "source": [
    "# def evaluate_model(y_test, y_pred): #Gives evaluation metrics for model\n",
    "#   acc_score = accuracy_score(y_test, y_pred)\n",
    "#   class_report = classification_report(y_test, y_pred)\n",
    "#   print(\"Accuracy Score: {:.2f}\", acc_score)\n",
    "#   print(class_report)"
   ]
  },
  {
   "cell_type": "code",
   "execution_count": null,
   "metadata": {},
   "outputs": [],
   "source": [
    "# #Gathering data for models\n",
    "# event_covid_df = covid_df[\"Change In Price (%)\"]\n",
    "# event_ru_df = russia_ukraine_df[\"Change In Price (%)\"]\n",
    "\n",
    "# X_non_covid = non_covid_df.sample(n = len(event_covid_df), random_state = 1)\n",
    "# X_non_covid_encoded = pd.get_dummies(X_non_covid)\n",
    "# X_non_covid_encoded.columns = X_non_covid_encoded.columns.str.replace(\"[^a-zA-Z0-9]\", \"_\")\n",
    "\n",
    "# y_covid = event_covid_df\n",
    "# y_covid_binary = ((y_covid > non_covid_df[\"Change In Price (%)\"].mean()) | (y_covid < non_covid_df[\"Change In Price (%)\"].mean())).astype(int)\n",
    "\n",
    "# X_non_ru = non_russia_ukraine_df.sample(n = len(event_ru_df), random_state = 1)\n",
    "# X_non_ru_encoded = pd.get_dummies(X_non_ru)\n",
    "# X_non_ru_encoded.columns = X_non_ru_encoded.columns.str.replace(\"[^a-zA-Z0-9]\", \"_\")\n",
    "# y_ru = event_ru_df\n",
    "# y_ru_binary = ((y_ru > non_russia_ukraine_df[\"Change In Price (%)\"].mean()) | (y_ru < non_russia_ukraine_df[\"Change In Price (%)\"].mean())).astype(int)\n",
    "\n",
    "# X_train_covid, X_test_covid, y_train_covid, y_test_covid = train_test_split(X_non_covid_encoded, y_covid_binary, train_size = .7, random_state = 1)\n",
    "# X_train_ru, X_test_ru, y_train_ru, y_test_ru = train_test_split(X_non_ru_encoded, y_ru_binary, train_size = .7, random_state = 1)"
   ]
  },
  {
   "cell_type": "code",
   "execution_count": null,
   "metadata": {},
   "outputs": [],
   "source": [
    "# #LogisticRegression\n",
    "# LOGR_covid = LogisticRegression().fit(X_train_covid,y_train_covid)\n",
    "# pred_covid = LOGR_covid.predict(X_test_covid)\n",
    "\n",
    "# LOGR_ru = LogisticRegression().fit(X_train_ru,y_train_ru)\n",
    "# pred_ru = LOGR_ru.predict(X_test_ru)\n",
    "# print(\"COVID: \\n\" + evaluate_model(y_test_covid, pred_covid))\n",
    "# print(\"Russia-Ukraine War: \\n\" + evaluate_model(y_test_ru, pred_ru))"
   ]
  },
  {
   "cell_type": "code",
   "execution_count": null,
   "metadata": {},
   "outputs": [],
   "source": [
    "# #LightGBM Classifier\n",
    "# lightGBM_covid = LGBMClassifier().fit(X_train_covid,y_train_covid)\n",
    "# pred_covid = lightGBM_covid.predict(X_test_covid)\n",
    "\n",
    "# lightGBM_ru = LGBMClassifier().fit(X_train_ru,y_train_ru)\n",
    "# pred_ru = lightGBM_ru.predict(X_test_ru)\n",
    "\n",
    "# print(\"COVID: \\n\" + evaluate_model(y_test_covid, pred_covid))\n",
    "# print(\"Russia-Ukraine War: \\n\" + evaluate_model(y_test_ru, pred_ru))"
   ]
  },
  {
   "cell_type": "code",
   "execution_count": null,
   "metadata": {},
   "outputs": [],
   "source": [
    "# #Gradient Boosting Classifier\n",
    "# GB_covid = GradientBoostingClassifier().fit(X_train_covid,y_train_covid)\n",
    "# pred_covid = GB_covid.predict(X_test_covid)\n",
    "\n",
    "# GB_ru = GradientBoostingClassifier().fit(X_train_ru,y_train_ru)\n",
    "# pred_ru = GB_ru.predict(X_test_ru)\n",
    "# print(\"COVID: \\n\" + evaluate_model(y_test_covid, pred_covid))\n",
    "# print(\"Russia-Ukraine War: \\n\" + evaluate_model(y_test_ru, pred_ru))"
   ]
  },
  {
   "cell_type": "code",
   "execution_count": null,
   "metadata": {},
   "outputs": [],
   "source": [
    "# #Random Forest Classifier\n",
    "# RF_covid = RandomForestClassifier().fit(X_train_covid,y_train_covid)\n",
    "# pred_covid = RF_covid.predict(X_test_covid)\n",
    "\n",
    "# RF_ru = RandomForestClassifier().fit(X_train_ru,y_train_ru)\n",
    "# pred_ru = RF_ru.predict(X_test_ru)\n",
    "# print(\"COVID: \\n\" + evaluate_model(y_test_covid, pred_covid))\n",
    "# print(\"Russia-Ukraine War: \\n\" + evaluate_model(y_test_ru, pred_ru))"
   ]
  },
  {
   "cell_type": "code",
   "execution_count": null,
   "metadata": {},
   "outputs": [],
   "source": [
    "# #MLP Classifier\n",
    "# scaler = StandardScaler()\n",
    "# X_train_covid_scaled = scaler.fit_transform(X_train_covid)\n",
    "# X_test_covid_scaled = scaler.fit_transform(X_test_covid)\n",
    "# X_train_ru_scaled = scaler.fit_transform(X_train_ru)\n",
    "# X_test_ru_scaled = scaler.fit_transform(X_test_ru)\n",
    "\n",
    "# MLP_covid = MLPClassifier(random_state = 1).fit(X_train_covid_scaled, y_train_covid)\n",
    "# pred_covid = MLP_covid.predict(X_test_covid_scaled)\n",
    "# MLP_ru = MLPClassifier(random_state = 1).fit(X_train_ru_scaled, y_train_ru)\n",
    "# pred_ru = MLP_ru.predict(X_test_ru_scaled)\n",
    "\n",
    "# print(\"COVID: \\n\" + evaluate_model(y_test_covid, pred_covid))\n",
    "# print(\"Russia-Ukraine War: \\n\" + evaluate_model(y_test_ru, pred_ru))"
   ]
  },
  {
   "cell_type": "code",
   "execution_count": null,
   "metadata": {},
   "outputs": [],
   "source": [
    "# #SVC\n",
    "# SVM_covid = SVC().fit(X_train_covid, y_train_covid)\n",
    "# pred_covid = SVM_covid.predict(X_test_covid)\n",
    "\n",
    "# SVM_ru = SVC().fit(X_train_ru, y_train_ru)\n",
    "# pred_ru = SVM_ru.predict(X_test_ru)\n",
    "\n",
    "# print(\"COVID: \\n\" + evaluate_model(y_test_covid, pred_covid))\n",
    "# print(\"Russia-Ukraine War: \\n\" + evaluate_model(y_test_ru, pred_ru))"
   ]
  },
  {
   "cell_type": "code",
   "execution_count": null,
   "metadata": {},
   "outputs": [],
   "source": [
    "# #KNN Classifier\n",
    "# KNN_covid = KNeighborsClassifier().fit(X_train_covid, y_train_covid)\n",
    "# pred_covid = KNN_covid.predict(X_test_covid)\n",
    "\n",
    "# KNN_ru = KNeighborsClassifier().fit(X_train_ru, y_train_ru)\n",
    "# pred_ru = KNN_ru.predict(X_test_ru)\n",
    "\n",
    "# print(\"COVID: \\n\" + evaluate_model(y_test_covid, pred_covid))\n",
    "# print(\"Russia-Ukraine War: \\n\" + evaluate_model(y_test_ru, pred_ru))"
   ]
  },
  {
   "cell_type": "code",
   "execution_count": null,
   "metadata": {},
   "outputs": [],
   "source": [
    "# DT_covid = DecisionTreeClassifier().fit(X_train_covid, y_train_covid)\n",
    "# pred_covid = DT_covid.predict(X_test_covid)\n",
    "\n",
    "# DT_ru = DecisionTreeClassifier().fit(X_train_ru, y_train_ru)\n",
    "# pred_ru = DT_ru.predict(X_test_ru)\n",
    "\n",
    "# print(\"COVID: \\n\" + evaluate_model(y_test_covid, pred_covid))\n",
    "# print(\"Russia-Ukraine War: \\n\" + evaluate_model(y_test_ru, pred_ru))"
   ]
  }
 ],
 "metadata": {
  "language_info": {
   "name": "python"
  }
 },
 "nbformat": 4,
 "nbformat_minor": 2
}
