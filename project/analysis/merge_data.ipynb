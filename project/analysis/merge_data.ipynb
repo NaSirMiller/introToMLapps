{
 "cells": [
  {
   "cell_type": "code",
   "execution_count": null,
   "metadata": {},
   "outputs": [],
   "source": [
    "#Imports\n",
    "import glob\n",
    "import os\n",
    "import pandas as pd"
   ]
  },
  {
   "cell_type": "code",
   "execution_count": null,
   "metadata": {},
   "outputs": [],
   "source": [
    "#Initializing variables and Data\n",
    "path_to_indices = \"C:\\\\Users\\\\millen11\\\\Dropbox\\\\PC\\\\Documents\\\\academia\\\\rpi\\\\classes\\\\fall23\\\\introToML\\\\introToMLapps\\\\project\\\\dataset\\\\cleaned\\\\market_indices\"\n",
    "file_pattern = \"*.csv\""
   ]
  }
 ],
 "metadata": {
  "language_info": {
   "name": "python"
  }
 },
 "nbformat": 4,
 "nbformat_minor": 2
}
