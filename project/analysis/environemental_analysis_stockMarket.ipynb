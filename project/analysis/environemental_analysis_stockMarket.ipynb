{
 "cells": [
  {
   "cell_type": "code",
   "execution_count": 1,
   "metadata": {},
   "outputs": [],
   "source": [
    "import helper\n",
    "import pandas as pd\n",
    "import matplotlib as mplt\n",
    "import numpy as np\n",
    "import seaborn as sb\n",
    "import sklearn as skl\n",
    "import yfinance as yf"
   ]
  },
  {
   "cell_type": "code",
   "execution_count": 3,
   "metadata": {},
   "outputs": [
    {
     "name": "stdout",
     "output_type": "stream",
     "text": [
      "{'^GSPC': <pandas.io.formats.style.Styler object at 0x0000013B6A1CC410>, '^DJI': <pandas.io.formats.style.Styler object at 0x0000013B69F98550>, '^IXIC': <pandas.io.formats.style.Styler object at 0x0000013B6BC06810>, '^NYA': <pandas.io.formats.style.Styler object at 0x0000013B6A01F890>, '^XAX': <pandas.io.formats.style.Styler object at 0x0000013B698CBB10>, '^BUK100P': <pandas.io.formats.style.Styler object at 0x0000013B6A1BFD90>, '^RUT': <pandas.io.formats.style.Styler object at 0x0000013B6A1C8250>, '^VIX': <pandas.io.formats.style.Styler object at 0x0000013B698B4E90>, '^FTSE': <pandas.io.formats.style.Styler object at 0x0000013B6A0FB990>, '^GDAXI': <pandas.io.formats.style.Styler object at 0x0000013B27AABE90>, '^FCHI': <pandas.io.formats.style.Styler object at 0x0000013B6A10A910>, '^STOXX50E': <pandas.io.formats.style.Styler object at 0x0000013B6A15D610>, '^N100': <pandas.io.formats.style.Styler object at 0x0000013B6A1C88D0>, '^BFX': <pandas.io.formats.style.Styler object at 0x0000013B27BA8310>, 'IMOEX.ME': <pandas.io.formats.style.Styler object at 0x0000013B6A0B0C10>, '^N225': <pandas.io.formats.style.Styler object at 0x0000013B698F0C10>, '^HSI': <pandas.io.formats.style.Styler object at 0x0000013B698F3550>, '000001.SS': <pandas.io.formats.style.Styler object at 0x0000013B6A11E110>, '399001.SZ': <pandas.io.formats.style.Styler object at 0x0000013B698DA4D0>, '^STI': <pandas.io.formats.style.Styler object at 0x0000013B69F28D10>, '^AXJO': <pandas.io.formats.style.Styler object at 0x0000013B6A0F8A90>, '^AORD': <pandas.io.formats.style.Styler object at 0x0000013B6A0B4190>, '^BSESN': <pandas.io.formats.style.Styler object at 0x0000013B698B5110>, '^JKSE': <pandas.io.formats.style.Styler object at 0x0000013B27BA2750>, '^KLSE': <pandas.io.formats.style.Styler object at 0x0000013B6BC1F850>, '^NZ50': <pandas.io.formats.style.Styler object at 0x0000013B698D9610>, '^KS11': <pandas.io.formats.style.Styler object at 0x0000013B6A208710>, '^TWII': <pandas.io.formats.style.Styler object at 0x0000013B6A097350>, '^GSPTSE': <pandas.io.formats.style.Styler object at 0x0000013B27BA1A50>, '^BVSP': <pandas.io.formats.style.Styler object at 0x0000013B6A1BF2D0>, '^MXX': <pandas.io.formats.style.Styler object at 0x0000013B6A1AE0D0>, '^IPSA': <pandas.io.formats.style.Styler object at 0x0000013B6A208910>, '^MERV': <pandas.io.formats.style.Styler object at 0x0000013B27BA8550>, '^TA125.TA': <pandas.io.formats.style.Styler object at 0x0000013B6A1ACF50>, '^CASE30': <pandas.io.formats.style.Styler object at 0x0000013B6BDE3BD0>, '^JN0U.JO': <pandas.io.formats.style.Styler object at 0x0000013B6BDE3310>}\n"
     ]
    }
   ],
   "source": [
    "world_indices_page = pd.read_html(\"https://finance.yahoo.com/world-indices/\")\n",
    "world_indices = world_indices_page[0]\n",
    "\n",
    "market_indices = {}\n",
    "for index in world_indices.Symbol:\n",
    "  market_index_df = helper.create_market_data(index)\n",
    "  market_indices[index] = market_index_df\n",
    "print(market_indices)\n"
   ]
  },
  {
   "cell_type": "code",
   "execution_count": null,
   "metadata": {},
   "outputs": [],
   "source": [
    "high_impact_times = helper.get_impactful_events()"
   ]
  }
 ],
 "metadata": {
  "kernelspec": {
   "display_name": "Python 3",
   "language": "python",
   "name": "python3"
  },
  "language_info": {
   "codemirror_mode": {
    "name": "ipython",
    "version": 3
   },
   "file_extension": ".py",
   "mimetype": "text/x-python",
   "name": "python",
   "nbconvert_exporter": "python",
   "pygments_lexer": "ipython3",
   "version": "3.11.3"
  }
 },
 "nbformat": 4,
 "nbformat_minor": 2
}
